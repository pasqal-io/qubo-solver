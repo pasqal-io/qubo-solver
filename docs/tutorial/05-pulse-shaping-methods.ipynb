{
 "cells": [
  {
   "cell_type": "markdown",
   "metadata": {},
   "source": [
    "## Demo - Pulse Shaping Methods\n",
    "\n",
    "In this notebook, we show how to use different pulse shaping methods.\n",
    "\n",
    "##### Here, the two available pulse shaping methods are shown:\n",
    "\n",
    "- `ADIABATIC` *(Has no parameters to be customized).*\n",
    "- `OPTIMIZED` *(Has three parameters that can be customized).*\n",
    "\n",
    "##### We choose the method when defining the configurations, with `pulse_shaping_method = PulseType.(method)`\n",
    "\n",
    "##### Default config parameters:\n",
    "- use_quantum: bool | None = False (*for using the pulse shaping methods, we have to set it to `True`.*)\n",
    "- backend: str | BackendType = BackendType.QUTIP (possibly can be replace by `BackendType.EMU_MPS` or any value in `BackendType`)\n",
    "- device: str | DeviceType | None = DeviceType.DIGITAL_ANALOG_DEVICE (also available: `ANALOG_DEVICE`)\n",
    "- embedding_method: str | EmbedderType | None = EmbedderType.GREEDY (also available: `BLADE`)\n",
    "- pulse_shaping_method: str | PulseType | None = PulseType.ADIABATIC (also available: `OPTIMIZED`) \n",
    "\n",
    "##### `OPTIMIZED` pulse shaping parameters:\n",
    "\n",
    "- re_execute_opt_pulse: bool = False (`True`) *Whether we take the last pulse and make another optimization round following the pipeline (execute) or just take the results of the last one*\n",
    "- n_calls: *Number of optimization rounds; default is 20 and minimum is 12.*\n",
    "- initial_omega_parameters: [5.0, 10.0, 5.0,] *List with initial values for Amplitude (5.0, 10, 5.0) when using Optimized Pulse*\n",
    "- initial_detuning_parameters: [-10.0, 0.0, 10.0] *List with initial values for Detuning (-10.0, 0.0, 10.0) when using Optimized Pulse*"
   ]
  },
  {
   "cell_type": "code",
   "execution_count": null,
   "metadata": {},
   "outputs": [],
   "source": [
    "import torch\n",
    "\n",
    "from qubosolver.qubo_instance import QUBOInstance\n",
    "from qubosolver.config import SolverConfig, PulseShapingConfig\n",
    "from qubosolver.qubo_types import PulseType\n",
    "from qubosolver.solver import QuboSolver"
   ]
  },
  {
   "cell_type": "markdown",
   "metadata": {},
   "source": [
    "#### Load the instance as a `QUBOInstance` object \n",
    "\n",
    "Here, we have a 3x3 QUBO matrix with negative diagonal and positive off-diagonal terms."
   ]
  },
  {
   "cell_type": "code",
   "execution_count": null,
   "metadata": {},
   "outputs": [],
   "source": [
    "coefficients = torch.tensor([[-1.0, 0.5, 0.2], [0.5, -2.0, 0.3], [0.2, 0.3, -3.0]])\n",
    "instance = QUBOInstance(coefficients)"
   ]
  },
  {
   "cell_type": "markdown",
   "metadata": {},
   "source": [
    "## Standard Adiabatic\n",
    "\n",
    "Default method\n"
   ]
  },
  {
   "cell_type": "code",
   "execution_count": null,
   "metadata": {},
   "outputs": [
    {
     "name": "stdout",
     "output_type": "stream",
     "text": [
      "QUBOSolution(bitstrings=tensor([[0., 0., 1.],\n",
      "        [0., 1., 0.],\n",
      "        [1., 0., 0.],\n",
      "        [0., 0., 0.]]), costs=tensor([-3., -2., -1.,  0.]), counts=tensor([ 83, 111, 120, 186], dtype=torch.int32), probabilities=tensor([0.1660, 0.2220, 0.2400, 0.3720]), solution_status=<SolutionStatusType.UNPROCESSED: 'unprocessed'>)\n"
     ]
    }
   ],
   "source": [
    "default_config = SolverConfig.from_kwargs(\n",
    "    use_quantum=True, pulse_shaping=PulseShapingConfig(pulse_shaping_method=PulseType.ADIABATIC),\n",
    ")\n",
    "solver = QuboSolver(instance, default_config)\n",
    "\n",
    "solution = solver.solve()\n",
    "print(solution)"
   ]
  },
  {
   "cell_type": "markdown",
   "metadata": {},
   "source": [
    "## Optimized Pulse shaping \n",
    "\n",
    "### Parameters to customize:\n",
    "\n",
    "- `n_calls`\n",
    "- `re_execute_opt_pulse`\n",
    "- `initial_omega_parameters`\n",
    "- `initial_detuning_parameters`"
   ]
  },
  {
   "cell_type": "markdown",
   "metadata": {},
   "source": [
    "#### Default configuration"
   ]
  },
  {
   "cell_type": "code",
   "execution_count": null,
   "metadata": {},
   "outputs": [
    {
     "name": "stdout",
     "output_type": "stream",
     "text": [
      "QUBOSolution(bitstrings=tensor([[0., 0., 1.],\n",
      "        [0., 1., 0.],\n",
      "        [1., 0., 0.],\n",
      "        [0., 0., 0.]]), costs=tensor([-3., -2., -1.,  0.]), counts=tensor([14, 18, 12, 56], dtype=torch.int32), probabilities=tensor([0.1400, 0.1800, 0.1200, 0.5600]), solution_status=<SolutionStatusType.UNPROCESSED: 'unprocessed'>)\n"
     ]
    }
   ],
   "source": [
    "default_config = SolverConfig.from_kwargs(\n",
    "    use_quantum=True, pulse_shaping=PulseShapingConfig(pulse_shaping_method=PulseType.OPTIMIZED),\n",
    ")\n",
    "solver = QuboSolver(instance, default_config)\n",
    "\n",
    "solution = solver.solve()\n",
    "print(solution)"
   ]
  },
  {
   "cell_type": "markdown",
   "metadata": {},
   "source": [
    "#### Changing `n_calls`"
   ]
  },
  {
   "cell_type": "code",
   "execution_count": null,
   "metadata": {},
   "outputs": [
    {
     "name": "stdout",
     "output_type": "stream",
     "text": [
      "QUBOSolution(bitstrings=tensor([[0., 0., 1.],\n",
      "        [0., 1., 0.],\n",
      "        [1., 0., 0.],\n",
      "        [0., 0., 0.]]), costs=tensor([-3., -2., -1.,  0.]), counts=tensor([14, 16, 17, 53], dtype=torch.int32), probabilities=tensor([0.1400, 0.1600, 0.1700, 0.5300]), solution_status=<SolutionStatusType.UNPROCESSED: 'unprocessed'>)\n"
     ]
    }
   ],
   "source": [
    "default_config = SolverConfig.from_kwargs(\n",
    "    use_quantum=True, pulse_shaping=PulseShapingConfig(pulse_shaping_method=PulseType.OPTIMIZED), n_calls=13\n",
    ")\n",
    "solver = QuboSolver(instance, default_config)\n",
    "\n",
    "solution = solver.solve()\n",
    "print(solution)"
   ]
  },
  {
   "cell_type": "markdown",
   "metadata": {},
   "source": [
    "#### Changing `initial_omega_parameters` and `initial_detuning_parameters`:"
   ]
  },
  {
   "cell_type": "code",
   "execution_count": null,
   "metadata": {},
   "outputs": [
    {
     "name": "stdout",
     "output_type": "stream",
     "text": [
      "QUBOSolution(bitstrings=tensor([[0., 0., 1.],\n",
      "        [0., 1., 0.],\n",
      "        [1., 0., 0.],\n",
      "        [0., 0., 0.]]), costs=tensor([-3., -2., -1.,  0.]), counts=tensor([12, 16, 15, 57], dtype=torch.int32), probabilities=tensor([0.1200, 0.1600, 0.1500, 0.5700]), solution_status=<SolutionStatusType.UNPROCESSED: 'unprocessed'>)\n"
     ]
    }
   ],
   "source": [
    "default_config = SolverConfig.from_kwargs(\n",
    "    use_quantum=True, pulse_shaping=PulseShapingConfig(pulse_shaping_method=PulseType.OPTIMIZED, initial_omega_parameters=[2.0, 15.0, 5.0,], initial_detuning_parameters=[-45.0, 0.0, 25.0]),\n",
    ")\n",
    "solver = QuboSolver(instance, default_config)\n",
    "\n",
    "solution = solver.solve()\n",
    "print(solution)"
   ]
  },
  {
   "cell_type": "markdown",
   "metadata": {},
   "source": [
    "#### Changing `re_execute_opt_pulse` to `True`:"
   ]
  },
  {
   "cell_type": "code",
   "execution_count": null,
   "metadata": {},
   "outputs": [
    {
     "name": "stdout",
     "output_type": "stream",
     "text": [
      "QUBOSolution(bitstrings=tensor([[0., 0., 1.],\n",
      "        [0., 1., 0.],\n",
      "        [1., 0., 0.],\n",
      "        [0., 0., 0.]]), costs=tensor([-3., -2., -1.,  0.]), counts=tensor([ 71,  64,  89, 276], dtype=torch.int32), probabilities=tensor([0.1420, 0.1280, 0.1780, 0.5520]), solution_status=<SolutionStatusType.UNPROCESSED: 'unprocessed'>)\n"
     ]
    }
   ],
   "source": [
    "default_config = SolverConfig.from_kwargs(\n",
    "    use_quantum=True, pulse_shaping=PulseShapingConfig(pulse_shaping_method=PulseType.OPTIMIZED, re_execute_opt_pulse=True),\n",
    ")\n",
    "solver = QuboSolver(instance, default_config)\n",
    "\n",
    "solution = solver.solve()\n",
    "print(solution)"
   ]
  },
  {
   "cell_type": "markdown",
   "metadata": {},
   "source": [
    "#### Adding custom functions:\n",
    "\n",
    "One can change the pulse shaping method by incorporating custom functions for:\n",
    "- Evaluating a candidate bitstring and QUBO via `custom_qubo_cost`\n",
    "- Performing optimization with a different objective than the best cost via `custom_objective`\n",
    "- Adding callback functions via `callback_objective`."
   ]
  },
  {
   "cell_type": "code",
   "execution_count": null,
   "metadata": {},
   "outputs": [],
   "source": [
    "from qubosolver.utils.qubo_eval import calculate_qubo_cost\n",
    "\n",
    "# example of penalization\n",
    "def penalized_qubo(bitstring: str, QUBO: torch.Tensor) -> float:\n",
    "    return calculate_qubo_cost(bitstring, QUBO) + 2 * bitstring.count(\"0\")\n",
    "\n",
    "# example of saving intermediate results\n",
    "opt_results = list()\n",
    "def callback(d: dict) -> None:\n",
    "    opt_results.append(d)\n",
    "\n",
    "# example of using an average cost\n",
    "def average_ojective(\n",
    "    bitstrings: list,\n",
    "    counts: list,\n",
    "    probabilities: list,\n",
    "    costs: list,\n",
    "    best_cost: float,\n",
    "    best_bitstring: str,\n",
    ") -> float:\n",
    "    return sum([p * c for p, c in zip(probabilities, costs)])\n",
    "\n",
    "pulse_shaping=PulseShapingConfig(pulse_shaping_method=PulseType.OPTIMIZED, \n",
    "    re_execute_opt_pulse=True, \n",
    "    custom_qubo_cost=penalized_qubo, \n",
    "    callback_objective=callback,\n",
    "    custom_objective = average_ojective,\n",
    ")\n",
    "\n",
    "config = SolverConfig(\n",
    "    use_quantum=True, \n",
    "    pulse_shaping=pulse_shaping,\n",
    ")"
   ]
  },
  {
   "cell_type": "code",
   "execution_count": null,
   "metadata": {},
   "outputs": [
    {
     "data": {
      "text/plain": [
       "(20,\n",
       " {'x': [1.784928590509922,\n",
       "   8.110880628177934,\n",
       "   7.507619225411378,\n",
       "   -121.60698017231257,\n",
       "   -1.6642490558873106,\n",
       "   -125.66370514359173],\n",
       "  'cost_eval': 4.83})"
      ]
     },
     "execution_count": null,
     "metadata": {},
     "output_type": "execute_result"
    }
   ],
   "source": [
    "solver = QuboSolver(instance, config)\n",
    "solution = solver.solve()\n",
    "len(opt_results), opt_results[-1]"
   ]
  },
  {
   "cell_type": "code",
   "execution_count": null,
   "metadata": {},
   "outputs": [
    {
     "data": {
      "text/plain": [
       "QUBOSolution(bitstrings=tensor([[0., 0., 1.],\n",
       "        [0., 1., 0.],\n",
       "        [1., 0., 0.],\n",
       "        [0., 0., 0.]]), costs=tensor([-3., -2., -1.,  0.]), counts=tensor([162, 178, 156,   4], dtype=torch.int32), probabilities=tensor([0.3240, 0.3560, 0.3120, 0.0080]), solution_status=<SolutionStatusType.UNPROCESSED: 'unprocessed'>)"
      ]
     },
     "execution_count": null,
     "metadata": {},
     "output_type": "execute_result"
    }
   ],
   "source": [
    "solution"
   ]
  }
 ],
 "metadata": {
  "kernelspec": {
   "display_name": "Python 3 (ipykernel)",
   "language": "python",
   "name": "python3"
  },
  "language_info": {
   "codemirror_mode": {
    "name": "ipython",
    "version": 3
   },
   "file_extension": ".py",
   "mimetype": "text/x-python",
   "name": "python",
   "nbconvert_exporter": "python",
   "pygments_lexer": "ipython3"
  }
 },
 "nbformat": 4,
 "nbformat_minor": 4
}
