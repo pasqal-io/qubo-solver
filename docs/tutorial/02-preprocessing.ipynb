{
 "cells": [
  {
   "cell_type": "markdown",
   "metadata": {},
   "source": [
    "## Quickstart: Solving a QUBO with Preprocessing and Tabu Search\n",
    "\n",
    "This tutorial shows how to solve a simple QUBO problem using Tabu Search, with preprocessing enabled to reduce the problem size beforehand."
   ]
  },
  {
   "cell_type": "code",
   "execution_count": null,
   "metadata": {},
   "outputs": [
    {
     "name": "stdout",
     "output_type": "stream",
     "text": [
      "QUBOSolution(bitstrings=tensor([[1., 1.]]), costs=tensor([-2.]), counts=None, probabilities=None, solution_status=<SolutionStatusType.PREPROCESSED: 'preprocessed'>)\n"
     ]
    }
   ],
   "source": [
    "from qubosolver import QUBOInstance\n",
    "from qubosolver.config import SolverConfig\n",
    "from qubosolver.solver import QuboSolver\n",
    "\n",
    "qubo = QUBOInstance(coefficients=[[-2.0, 1.0], [1.0, -2.0]])\n",
    "config = SolverConfig.from_kwargs(do_preprocessing = True, use_quantum = False, classical_solver_type=\"dwave_sa\")\n",
    "\n",
    "solver = QuboSolver(qubo, config)\n",
    "solution = solver.solve()\n",
    "print(solution)"
   ]
  },
  {
   "cell_type": "markdown",
   "metadata": {},
   "source": [
    "We can access the number of variables fixed by preprocessing via the attribute `n_fixed_variables_preprocessing` from the solver:"
   ]
  }
 ],
 "metadata": {
  "kernelspec": {
   "display_name": "Python 3 (ipykernel)",
   "language": "python",
   "name": "python3"
  },
  "language_info": {
   "codemirror_mode": {
    "name": "ipython",
    "version": 3
   },
   "file_extension": ".py",
   "mimetype": "text/x-python",
   "name": "python",
   "nbconvert_exporter": "python",
   "pygments_lexer": "ipython3"
  }
 },
 "nbformat": 4,
 "nbformat_minor": 4
}
