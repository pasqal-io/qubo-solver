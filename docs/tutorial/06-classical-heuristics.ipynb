{
 "cells": [
  {
   "cell_type": "markdown",
   "metadata": {},
   "source": [
    "## Quickstart: Solving a QUBO with Tabu Search\n",
    "\n",
    "This tutorial shows how to solve a QUBO problem using the Tabu Search solver."
   ]
  },
  {
   "cell_type": "code",
   "execution_count": null,
   "metadata": {},
   "outputs": [
    {
     "name": "stdout",
     "output_type": "stream",
     "text": [
      "QUBOSolution(bitstrings=tensor([[1., 1.]]), costs=tensor([-2.]), counts=None, probabilities=None, solution_status=<SolutionStatusType.UNPROCESSED: 'unprocessed'>)\n"
     ]
    }
   ],
   "source": [
    "from qubosolver import QUBOInstance\n",
    "from qubosolver.solver import QuboSolver\n",
    "from qubosolver.config import SolverConfig, ClassicalConfig\n",
    "\n",
    "qubo = QUBOInstance(coefficients=[[-2.0, 1.0], [1.0, -2.0]])\n",
    "config = SolverConfig(use_quantum = False, classical=ClassicalConfig(classical_solver_type=\"dwave_tabu\"))\n",
    "\n",
    "solver = QuboSolver(qubo, config)\n",
    "\n",
    "solution = solver.solve()\n",
    "print(solution)"
   ]
  },
  {
   "cell_type": "markdown",
   "metadata": {},
   "source": [
    "## Quickstart: Solving a QUBO with Simulated Annealing\n",
    "\n",
    "This tutorial shows how to solve a QUBO problem using the Simulated Annealing solver."
   ]
  },
  {
   "cell_type": "code",
   "execution_count": null,
   "metadata": {},
   "outputs": [
    {
     "name": "stdout",
     "output_type": "stream",
     "text": [
      "QUBOSolution(bitstrings=tensor([[1., 1.]]), costs=tensor([-2.]), counts=None, probabilities=None, solution_status=<SolutionStatusType.UNPROCESSED: 'unprocessed'>)\n"
     ]
    }
   ],
   "source": [
    "from qubosolver import QUBOInstance\n",
    "from qubosolver.solver import QuboSolver\n",
    "from qubosolver.config import SolverConfig\n",
    "\n",
    "qubo = QUBOInstance(coefficients=[[-2.0, 1.0], [1.0, -2.0]])\n",
    "config = SolverConfig(use_quantum = False, classical=ClassicalConfig(classical_solver_type=\"dwave_sa\"))\n",
    "\n",
    "solver = QuboSolver(qubo, config)\n",
    "\n",
    "solution = solver.solve()\n",
    "print(solution)"
   ]
  }
 ],
 "metadata": {
  "kernelspec": {
   "display_name": "Python 3 (ipykernel)",
   "language": "python",
   "name": "python3"
  },
  "language_info": {
   "codemirror_mode": {
    "name": "ipython",
    "version": 3
   },
   "file_extension": ".py",
   "mimetype": "text/x-python",
   "name": "python",
   "nbconvert_exporter": "python",
   "pygments_lexer": "ipython3"
  }
 },
 "nbformat": 4,
 "nbformat_minor": 4
}
