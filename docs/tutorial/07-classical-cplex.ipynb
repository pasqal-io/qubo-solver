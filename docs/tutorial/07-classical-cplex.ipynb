{
 "cells": [
  {
   "cell_type": "markdown",
   "id": "59252095",
   "metadata": {},
   "source": [
    "## Solve a QUBO with CPLEX\n",
    "\n",
    "Default CPLEX parameters:\n",
    "\n",
    "- **cplex_maxtime** (*float*): `600.0`  \n",
    "- **cplex_log_path** (*str*): `\"solver.log\"`  \n",
    "- **do_preprocessing** (*bool*): `False`  \n",
    "- **do_postprocessing** (*bool*): `False`  \n",
    "\n",
    "*Note:* Although preprocessing and postprocessing can be enabled, CPLEX is usually powerful enough to solve the QUBO sizes we handle without them."
   ]
  },
  {
   "cell_type": "code",
   "execution_count": null,
   "id": "1ebe19c9",
   "metadata": {},
   "outputs": [
    {
     "name": "stdout",
     "output_type": "stream",
     "text": [
      "Solution result: QUBOSolution(bitstrings=tensor([[1., 0., 0., 0., 0., 1., 1., 0., 0., 0., 0., 1., 0., 1., 0.]]), costs=tensor([-273.9201]), counts=None, probabilities=None, solution_status=<SolutionStatusType.UNPROCESSED: 'unprocessed'>)\n"
     ]
    }
   ],
   "source": [
    "import torch\n",
    "from qubosolver import QUBOInstance\n",
    "from qubosolver.config import SolverConfig, ClassicalConfig\n",
    "from qubosolver.solver import QuboSolver\n",
    "\n",
    "coefficients = torch.load(\"qubo_size_15.pt\")\n",
    "instance = QUBOInstance(coefficients)\n",
    "\n",
    "# Create a SolverConfig object with classical solver options.\n",
    "cplex = ClassicalConfig(\n",
    "    classical_solver_type=\"cplex\",\n",
    "    cplex_maxtime = 600.0, \n",
    "    cplex_log_path= \"cplex.log\"  \n",
    ")\n",
    "config = SolverConfig(\n",
    "    classical=cplex,  \n",
    ")\n",
    "# Instantiate the qubo (classical) solver class.\n",
    "classical_solver = QuboSolver(instance, config)\n",
    "\n",
    "# Solve the QUBO problem and print the solution.\n",
    "solution = classical_solver.solve()\n",
    "print(\"Solution result:\", solution)\n"
   ]
  }
 ],
 "metadata": {
  "kernelspec": {
   "display_name": "Python 3 (ipykernel)",
   "language": "python",
   "name": "python3"
  },
  "language_info": {
   "codemirror_mode": {
    "name": "ipython",
    "version": 3
   },
   "file_extension": ".py",
   "mimetype": "text/x-python",
   "name": "python",
   "nbconvert_exporter": "python",
   "pygments_lexer": "ipython3"
  }
 },
 "nbformat": 4,
 "nbformat_minor": 5
}
