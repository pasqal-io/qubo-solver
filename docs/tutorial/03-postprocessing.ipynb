{
 "cells": [
  {
   "cell_type": "markdown",
   "id": "b29e910a",
   "metadata": {},
   "source": [
    "## Load a QUBO from the dataset"
   ]
  },
  {
   "cell_type": "code",
   "execution_count": null,
   "id": "84169cd8",
   "metadata": {},
   "outputs": [],
   "source": [
    "import os\n",
    "import re\n",
    "from pathlib import Path\n",
    "from qubosolver.saveload import load_qubo_dataset\n",
    "output_directory = Path(str(os.path.abspath(\"01-dataset-generation-and-loading\")).replace(\"docs/tutorial\", \"qubosolver_logs/tutorial\"))\n",
    "\n",
    "def load_datasets_by_size(directory: str):\n",
    "    \"\"\"\n",
    "    Loads datasets from a directory by extracting the size from filenames.\n",
    "\n",
    "    Args:\n",
    "        directory (str): Path to the directory containing dataset files.\n",
    "\n",
    "    Returns:\n",
    "        dict[int, torch.Tensor]: A dictionary where keys are sizes and values are loaded datasets.\n",
    "    \"\"\"\n",
    "    # Regular expression to match filenames like \"raw_qubo_dataset_size_{size}.pt\"\n",
    "    pattern = r\"raw_qubo_dataset_size_(\\d+)\\.pt\"\n",
    "    datasets_by_size = {}\n",
    "    os.makedirs(directory, exist_ok=True)\n",
    "    for filename in os.listdir(directory):\n",
    "        match = re.match(pattern, filename)\n",
    "        if match:\n",
    "            size = int(match.group(1))\n",
    "            file_path = os.path.join(directory, filename)\n",
    "            dataset = load_qubo_dataset(file_path)\n",
    "            datasets_by_size[size] = dataset\n",
    "            print(f\"Loaded dataset with size {size} from {file_path}\")\n",
    "    return datasets_by_size\n",
    "datasets = load_datasets_by_size(output_directory)\n",
    "size = 20\n",
    "data_size_5 = datasets[size]\n",
    "\n",
    "qubo_cofficents, first_qubo_solution = data_size_5[9]\n",
    "print(f\"Coefficients : {qubo_cofficents}\")"
   ]
  },
  {
   "cell_type": "markdown",
   "id": "f5a7383c",
   "metadata": {},
   "source": [
    "## Postprocessing after a tabu search heuristic"
   ]
  },
  {
   "cell_type": "code",
   "execution_count": null,
   "id": "9e2d0d07",
   "metadata": {},
   "outputs": [],
   "source": [
    "from qubosolver import QUBOInstance\n",
    "from qubosolver.config import SolverConfig\n",
    "from qubosolver.solver import QuboSolver\n",
    "\n",
    "\n",
    "instance = QUBOInstance(qubo_cofficents)\n",
    "\n",
    "# Create a SolverConfig object with classical solver options.\n",
    "config = SolverConfig.from_kwargs(\n",
    "    use_quantum=False,\n",
    "    classical_solver_type=\"dwave_tabu\", \n",
    "    do_postprocessing=True\n",
    ")\n",
    "\n",
    "# Instantiate the classical solver using the dispatcher.\n",
    "classical_solver = QuboSolver(instance, config)\n",
    "\n",
    "# Solve the QUBO problem.\n",
    "solution = classical_solver.solve()\n",
    "print(\"Solution result:\", solution)\n",
    "\n",
    "\n"
   ]
  }
 ],
 "metadata": {
  "kernelspec": {
   "display_name": "Python 3 (ipykernel)",
   "language": "python",
   "name": "python3"
  },
  "language_info": {
   "codemirror_mode": {
    "name": "ipython",
    "version": 3
   },
   "file_extension": ".py",
   "mimetype": "text/x-python",
   "name": "python",
   "nbconvert_exporter": "python",
   "pygments_lexer": "ipython3",
   "version": "3.11.11"
  }
 },
 "nbformat": 4,
 "nbformat_minor": 5
}
